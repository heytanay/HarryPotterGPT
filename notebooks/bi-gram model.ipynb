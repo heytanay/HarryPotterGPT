{
 "cells": [
  {
   "cell_type": "code",
   "execution_count": 187,
   "id": "6fa97c5d",
   "metadata": {},
   "outputs": [],
   "source": [
    "import os\n",
    "import torch\n",
    "import tiktoken\n",
    "import torch.nn as nn\n",
    "from tqdm.auto import tqdm\n",
    "from torch.utils.data import Dataset, DataLoader"
   ]
  },
  {
   "cell_type": "code",
   "execution_count": 191,
   "id": "872cdc50",
   "metadata": {},
   "outputs": [],
   "source": [
    "def encode(data):\n",
    "    return torch.tensor(backbone.encode(data), dtype=torch.long)\n",
    "def decode(data):\n",
    "    return backbone.decode(data)"
   ]
  },
  {
   "cell_type": "code",
   "execution_count": 192,
   "id": "9678429d",
   "metadata": {},
   "outputs": [],
   "source": [
    "class HarryPotterDataset(Dataset):\n",
    "    def __init__(self, data: str, context_len: int):\n",
    "        self.encoded_data = encode(data)\n",
    "        self.context_len = context_len\n",
    "    def __getitem__(self, idx):\n",
    "        x = torch.stack([self.encoded_data[idx:idx+self.context_len]])\n",
    "        y = torch.stack([self.encoded_data[idx+1:idx+self.context_len+1]])\n",
    "        return torch.squeeze(x), torch.squeeze(y)\n",
    "    def __len__(self):\n",
    "        return len(self.encoded_data)"
   ]
  },
  {
   "cell_type": "code",
   "execution_count": 179,
   "id": "1bff01fb",
   "metadata": {},
   "outputs": [],
   "source": [
    "class BigramModel(nn.Module):\n",
    "    def __init__(self, vocab_size):\n",
    "        super(BigramModel, self).__init__()\n",
    "        self.token_emb_table = nn.Embedding(vocab_size, vocab_size)\n",
    "        \n",
    "    def forward(self, x, targets=None):\n",
    "        logits = self.token_emb_table(x)\n",
    "        if targets is None:\n",
    "            loss = None\n",
    "        else:\n",
    "            B, C, V = logits.shape\n",
    "            logits = logits.view(B*C, V)\n",
    "            targets = targets.view(B*C)\n",
    "            loss = nn.functional.cross_entropy(logits, targets)\n",
    "        return logits, loss\n",
    "    \n",
    "    def generate(self, idx, max_tokens):\n",
    "        for _ in range(max_tokens):\n",
    "            logits, _ = self(idx)\n",
    "            logits = logits[:, -1, :]\n",
    "            logit_probs = nn.functional.softmax(logits, dim=-1)\n",
    "            next_idx = torch.multinomial(logit_probs, num_samples=1)\n",
    "            idx = torch.cat((idx, next_idx), dim=1)\n",
    "        return idx"
   ]
  },
  {
   "cell_type": "code",
   "execution_count": null,
   "id": "8f8a3eb6",
   "metadata": {},
   "outputs": [],
   "source": [
    "if __name__ == \"__main__\":\n",
    "    vocab_size = backbone.n_vocab\n",
    "    epochs = 1000\n",
    "    val_interval = 100\n",
    "    batch_size = 32\n",
    "    context_len = 16\n",
    "    lr = 1e-3\n",
    "    device = torch.device('cuda:0')\n",
    "    \n",
    "    with open(\"/content/all_books.txt\", \"r\") as file:\n",
    "        data = file.read()\n",
    "    \n",
    "    backbone = tiktoken.get_encoding('gpt2')\n",
    "    model = BigramModel(vocab_size).to(device)\n",
    "    optim = torch.optim.AdamW(model.parameters(), lr=lr)\n",
    "    \n",
    "    # Make dataset and dataloader\n",
    "    hpd = HarryPotterDataset(data, context_len)\n",
    "    hpl = DataLoader(hpd, batch_size=batch_size, shuffle=True)\n",
    "    \n",
    "    for epx in tqdm(range(epochs)):\n",
    "        if epx % val_interval == 0:\n",
    "            idx = torch.zeros((1, 1), dtype=torch.long, device=device)\n",
    "            generated_text = model.generate(idx, max_new_tokens=500)\n",
    "            generated_text = decode(generated_text.tolist())\n",
    "            print(f\"epoch: {epx+1}\\t|\\ttext: {generated_text}\")\n",
    "        \n",
    "        for x, y in hpl:\n",
    "            logits, loss = model(x, y)\n",
    "            optim.zero_grad(set_to_none=True)\n",
    "            loss.backward()\n",
    "            optim.step()"
   ]
  },
  {
   "cell_type": "code",
   "execution_count": null,
   "id": "a09bbd84",
   "metadata": {},
   "outputs": [],
   "source": []
  }
 ],
 "metadata": {
  "kernelspec": {
   "display_name": "Python 3 (ipykernel)",
   "language": "python",
   "name": "python3"
  },
  "language_info": {
   "codemirror_mode": {
    "name": "ipython",
    "version": 3
   },
   "file_extension": ".py",
   "mimetype": "text/x-python",
   "name": "python",
   "nbconvert_exporter": "python",
   "pygments_lexer": "ipython3",
   "version": "3.9.15"
  }
 },
 "nbformat": 4,
 "nbformat_minor": 5
}
