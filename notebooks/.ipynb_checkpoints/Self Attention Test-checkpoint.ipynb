{
 "cells": [
  {
   "cell_type": "code",
   "execution_count": 2,
   "id": "2c723fe7",
   "metadata": {},
   "outputs": [],
   "source": [
    "import torch\n",
    "import torch.nn as nn\n",
    "import torch.nn.functional as F\n",
    "\n",
    "import warnings\n",
    "warnings.simplefilter('ignore')"
   ]
  },
  {
   "cell_type": "code",
   "execution_count": 74,
   "id": "6a3b7d6b",
   "metadata": {},
   "outputs": [],
   "source": [
    "class CausalSelfAttentionHead(nn.Module):\n",
    "    def __init__(self, embed_dim, head_size, context_len, attn_drop_val):\n",
    "        super(CausalSelfAttentionHead, self).__init__()\n",
    "        self.embed_dim = embed_dim\n",
    "        self.head_size = head_size\n",
    "        self.context_len = context_len\n",
    "        \n",
    "        # Init layers and stuff\n",
    "        self.key = nn.Linear(embed_dim, head_size, bias=False)\n",
    "        self.query = nn.Linear(embed_dim, head_size, bias=False)\n",
    "        self.value = nn.Linear(embed_dim, head_size, bias=False)\n",
    "        self.attn_drop = nn.Dropout(attn_drop_val)\n",
    "        self.register_buffer('tril', torch.tril(torch.ones(context_len, context_len)))\n",
    "    \n",
    "    def forward(self, x):\n",
    "        B, T, N = x.shape\n",
    "        # Pass the input data through the q, k, v layers\n",
    "        q, k, v = self.query(x), self.key(x), self.value(x)\n",
    "        # Calculate attention scores\n",
    "        attention = torch.div(torch.bmm(q, k.permute(0, 2, 1)), torch.sqrt(torch.tensor(self.head_size)))\n",
    "        attention = attention.masked_fill(self.tril[:T, :T]==0, float('-inf'))\n",
    "        attention = F.softmax(attention, dim=-1)\n",
    "        attention = self.attn_drop(attention)\n",
    "        # Aggregate by values\n",
    "        # attention: (B, C, C), value: (B, C, head_dim), output: (B, C, head_dim)\n",
    "        return torch.bmm(attention, v)"
   ]
  },
  {
   "cell_type": "code",
   "execution_count": 73,
   "id": "75afaab6",
   "metadata": {},
   "outputs": [],
   "source": [
    "dummy_data = torch.randn([64, 16, 32], device='mps')"
   ]
  },
  {
   "cell_type": "code",
   "execution_count": 86,
   "id": "0fe7114b",
   "metadata": {},
   "outputs": [],
   "source": [
    "attn_drop = 0.2\n",
    "head_size = 16\n",
    "bs, cl, ed = dummy_data.shape\n",
    "attention_block = CausalSelfAttentionHead(\n",
    "    embed_dim=ed,\n",
    "    head_size=head_size,\n",
    "    context_len=cl,\n",
    "    attn_drop_val=attn_drop\n",
    ")\n",
    "attention_block = attention_block.to('mps')"
   ]
  },
  {
   "cell_type": "code",
   "execution_count": 102,
   "id": "04f96d7b",
   "metadata": {},
   "outputs": [],
   "source": [
    "a = torch.randn([5, 5])\n",
    "b = torch.randn([5, 5])"
   ]
  },
  {
   "cell_type": "code",
   "execution_count": 103,
   "id": "33a5ce4f",
   "metadata": {},
   "outputs": [
    {
     "data": {
      "text/plain": [
       "tensor([[-0.8491,  0.9288, -0.1314, -0.8019,  0.1869],\n",
       "        [ 1.1707,  0.5597, -0.2477,  1.5830,  0.7145],\n",
       "        [ 0.0821, -2.5598, -0.8892,  1.6925, -0.4810],\n",
       "        [ 0.4280,  0.1001, -0.8228, -0.5716,  0.1815],\n",
       "        [-1.0965, -0.2318,  1.4492, -0.4824,  0.0934]])"
      ]
     },
     "execution_count": 103,
     "metadata": {},
     "output_type": "execute_result"
    }
   ],
   "source": [
    "a"
   ]
  },
  {
   "cell_type": "code",
   "execution_count": 104,
   "id": "69f0f23c",
   "metadata": {},
   "outputs": [
    {
     "data": {
      "text/plain": [
       "tensor([[ 0.1432, -0.3256,  1.1720,  0.1256,  0.4844],\n",
       "        [-0.2341,  1.4385,  1.7822,  0.0292, -1.2843],\n",
       "        [ 1.0318,  0.4665,  1.5819,  0.3102,  1.0315],\n",
       "        [ 1.0084, -0.0718, -0.9305, -1.3787, -0.5911],\n",
       "        [ 1.5977,  0.5849,  0.7514,  1.5093, -0.1699]])"
      ]
     },
     "execution_count": 104,
     "metadata": {},
     "output_type": "execute_result"
    }
   ],
   "source": [
    "b"
   ]
  },
  {
   "cell_type": "code",
   "execution_count": 107,
   "id": "3a105b25",
   "metadata": {},
   "outputs": [],
   "source": [
    "import numpy as np"
   ]
  },
  {
   "cell_type": "code",
   "execution_count": null,
   "id": "612096d6",
   "metadata": {},
   "outputs": [],
   "source": []
  }
 ],
 "metadata": {
  "kernelspec": {
   "display_name": "Python 3 (ipykernel)",
   "language": "python",
   "name": "python3"
  },
  "language_info": {
   "codemirror_mode": {
    "name": "ipython",
    "version": 3
   },
   "file_extension": ".py",
   "mimetype": "text/x-python",
   "name": "python",
   "nbconvert_exporter": "python",
   "pygments_lexer": "ipython3",
   "version": "3.9.13"
  }
 },
 "nbformat": 4,
 "nbformat_minor": 5
}
